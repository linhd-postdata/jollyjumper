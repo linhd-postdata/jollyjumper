{
 "cells": [
  {
   "cell_type": "code",
   "execution_count": 1,
   "metadata": {},
   "outputs": [],
   "source": [
    "import re\n",
    "import spacy\n",
    "nlp = spacy.load('es_core_news_md')"
   ]
  },
  {
   "cell_type": "code",
   "execution_count": 2,
   "metadata": {},
   "outputs": [],
   "source": [
    "PREPS = [\"a\", \"al\", \"ante\", \"bajo\", \"con\", \"contra\", \"desde\", \"en\", \"entre\", \n",
    "         \"hacia\", \"hasta\", \"para\", \"por\", \"según\", \"sin\", \"sobre\", \"tras\",\n",
    "         \"mediante\", \"durante\", \"salvo\", \"excepto\", \"cabe\", \"so\"]\n"
   ]
  },
  {
   "cell_type": "code",
   "execution_count": 47,
   "metadata": {},
   "outputs": [],
   "source": [
    "text = nlp(\"En el crepúsculo moría un desfile de pájaros marinos\")"
   ]
  },
  {
   "cell_type": "code",
   "execution_count": 75,
   "metadata": {},
   "outputs": [
    {
     "data": {
      "text/plain": [
       "[('En', 'En', 'case', crepúsculo, 'caca', 90),\n",
       " ('el', 'el', 'det', crepúsculo, 'caca', 92),\n",
       " ('crepúsculo', 'crepúsculo', 'obl', moría, 'caca', 100),\n",
       " ('morir', 'moría', 'ROOT', moría, 'caca', 90),\n",
       " ('uno', 'un', 'det', desfile, 'caca', 92),\n",
       " ('desfilar', 'desfile', 'obj', moría, 'caca', 85),\n",
       " ('de', 'de', 'case', pájaros, 'caca', 92),\n",
       " ('pájaro', 'pájaros', 'nmod', desfile, 'caca', 84)]"
      ]
     },
     "execution_count": 75,
     "metadata": {},
     "output_type": "execute_result"
    }
   ],
   "source": [
    "[(w.lemma_, w.text, w.dep_, w.head, \"caca\", w.nbor().pos) for w in text[:-1]]"
   ]
  },
  {
   "cell_type": "code",
   "execution_count": 49,
   "metadata": {
    "scrolled": true
   },
   "outputs": [
    {
     "name": "stdout",
     "output_type": "stream",
     "text": [
      "el crepúsculo crepúsculo obl moría\n",
      "un desfile desfile obj moría\n",
      "pájaros pájaros nmod desfile\n"
     ]
    }
   ],
   "source": [
    "for chunk in text.noun_chunks:\n",
    "    print(chunk.text, chunk.root.text, chunk.root.dep_,\n",
    "            chunk.root.head.text)"
   ]
  },
  {
   "cell_type": "code",
   "execution_count": 63,
   "metadata": {},
   "outputs": [
    {
     "data": {
      "text/plain": [
       "['crepúsculo', 'desfile']"
      ]
     },
     "execution_count": 63,
     "metadata": {},
     "output_type": "execute_result"
    }
   ],
   "source": [
    "give_children = text[3].children\n",
    "[t.text for t in give_children]"
   ]
  },
  {
   "cell_type": "code",
   "execution_count": 194,
   "metadata": {},
   "outputs": [],
   "source": [
    "poem2 = re.sub('([a-z]+)-[\\n\\r]+([a-z]+)',r'\\1\\2',poem)"
   ]
  },
  {
   "cell_type": "code",
   "execution_count": 195,
   "metadata": {},
   "outputs": [],
   "source": [
    "poem_nlp = nlp(poem2)"
   ]
  },
  {
   "cell_type": "code",
   "execution_count": 169,
   "metadata": {},
   "outputs": [
    {
     "data": {
      "text/plain": [
       "'el remedio  viene de otros planetas\\nmalamente pero ok'"
      ]
     },
     "execution_count": 169,
     "metadata": {},
     "output_type": "execute_result"
    }
   ],
   "source": [
    "poem_nlp.text"
   ]
  },
  {
   "cell_type": "code",
   "execution_count": 170,
   "metadata": {},
   "outputs": [
    {
     "data": {
      "text/plain": [
       "[(el, 'DET'),\n",
       " (remedio, 'NOUN'),\n",
       " ( , 'SPACE'),\n",
       " (viene, 'VERB'),\n",
       " (de, 'ADP'),\n",
       " (otros, 'DET'),\n",
       " (planetas, 'NOUN'),\n",
       " (, 'SPACE'),\n",
       " (malamente, 'ADV'),\n",
       " (pero, 'CONJ'),\n",
       " (ok, 'NOUN')]"
      ]
     },
     "execution_count": 170,
     "metadata": {},
     "output_type": "execute_result"
    }
   ],
   "source": [
    "[(t,t.pos_) for t in poem_nlp]"
   ]
  },
  {
   "cell_type": "code",
   "execution_count": 196,
   "metadata": {},
   "outputs": [
    {
     "data": {
      "text/plain": [
       "'el remedio  vi-\\nene de otros planet-\\nas\\nmalamente pero ok'"
      ]
     },
     "execution_count": 196,
     "metadata": {},
     "output_type": "execute_result"
    }
   ],
   "source": [
    "pos_list.reverse()\n",
    "texto_final = poem_nlp.text\n",
    "for pos in pos_list:\n",
    "     texto_final = texto_final[:pos]+'-\\n'+texto_final[pos:]\n",
    "texto_final"
   ]
  },
  {
   "cell_type": "code",
   "execution_count": 197,
   "metadata": {},
   "outputs": [
    {
     "data": {
      "text/plain": [
       "[(el, 'DET'),\n",
       " (remedio, 'NOUN'),\n",
       " ( , 'SPACE'),\n",
       " (viene, 'VERB'),\n",
       " (de, 'ADP'),\n",
       " (otros, 'DET'),\n",
       " (planetas, 'NOUN'),\n",
       " (, 'SPACE'),\n",
       " (malamente, 'ADV'),\n",
       " (pero, 'CONJ'),\n",
       " (ok, 'NOUN')]"
      ]
     },
     "execution_count": 197,
     "metadata": {},
     "output_type": "execute_result"
    }
   ],
   "source": [
    "[(t,t.pos_) for t in poem_nlp]"
   ]
  },
  {
   "cell_type": "code",
   "execution_count": null,
   "metadata": {},
   "outputs": [],
   "source": []
  }
 ],
 "metadata": {
  "kernelspec": {
   "display_name": "Python 3",
   "language": "python",
   "name": "python3"
  },
  "language_info": {
   "codemirror_mode": {
    "name": "ipython",
    "version": 3
   },
   "file_extension": ".py",
   "mimetype": "text/x-python",
   "name": "python",
   "nbconvert_exporter": "python",
   "pygments_lexer": "ipython3",
   "version": "3.6.7"
  }
 },
 "nbformat": 4,
 "nbformat_minor": 2
}
