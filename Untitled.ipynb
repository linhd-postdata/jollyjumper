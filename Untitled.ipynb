{
 "cells": [
  {
   "cell_type": "code",
   "execution_count": 2,
   "metadata": {},
   "outputs": [],
   "source": [
    "import re\n",
    "import spacy\n",
    "nlp = spacy.load('es_core_news_md')"
   ]
  },
  {
   "cell_type": "code",
   "execution_count": 190,
   "metadata": {},
   "outputs": [],
   "source": [
    "poem = \"\"\"el remedio vie-\n",
    "ne de otros plane-\n",
    "tas\n",
    "malamente pero ok\"\"\"\n"
   ]
  },
  {
   "cell_type": "code",
   "execution_count": 191,
   "metadata": {},
   "outputs": [],
   "source": [
    "clean_poem_pos = re.finditer('-[\\n\\r]+[a-z]+', poem, re.I)"
   ]
  },
  {
   "cell_type": "code",
   "execution_count": 192,
   "metadata": {
    "scrolled": true
   },
   "outputs": [],
   "source": [
    "pos_list = []\n",
    "for caca in clean_poem_pos:\n",
    "    pos_list.append(caca.start(0)-1)"
   ]
  },
  {
   "cell_type": "code",
   "execution_count": 193,
   "metadata": {},
   "outputs": [
    {
     "data": {
      "text/plain": [
       "[14, 33]"
      ]
     },
     "execution_count": 193,
     "metadata": {},
     "output_type": "execute_result"
    }
   ],
   "source": [
    "pos_list"
   ]
  },
  {
   "cell_type": "code",
   "execution_count": 194,
   "metadata": {},
   "outputs": [],
   "source": [
    "poem2 = re.sub('([a-z]+)-[\\n\\r]+([a-z]+)',r'\\1\\2',poem)"
   ]
  },
  {
   "cell_type": "code",
   "execution_count": 195,
   "metadata": {},
   "outputs": [],
   "source": [
    "poem_nlp = nlp(poem2)"
   ]
  },
  {
   "cell_type": "code",
   "execution_count": 169,
   "metadata": {},
   "outputs": [
    {
     "data": {
      "text/plain": [
       "'el remedio  viene de otros planetas\\nmalamente pero ok'"
      ]
     },
     "execution_count": 169,
     "metadata": {},
     "output_type": "execute_result"
    }
   ],
   "source": [
    "poem_nlp.text"
   ]
  },
  {
   "cell_type": "code",
   "execution_count": 170,
   "metadata": {},
   "outputs": [
    {
     "data": {
      "text/plain": [
       "[(el, 'DET'),\n",
       " (remedio, 'NOUN'),\n",
       " ( , 'SPACE'),\n",
       " (viene, 'VERB'),\n",
       " (de, 'ADP'),\n",
       " (otros, 'DET'),\n",
       " (planetas, 'NOUN'),\n",
       " (, 'SPACE'),\n",
       " (malamente, 'ADV'),\n",
       " (pero, 'CONJ'),\n",
       " (ok, 'NOUN')]"
      ]
     },
     "execution_count": 170,
     "metadata": {},
     "output_type": "execute_result"
    }
   ],
   "source": [
    "[(t,t.pos_) for t in poem_nlp]"
   ]
  },
  {
   "cell_type": "code",
   "execution_count": 196,
   "metadata": {},
   "outputs": [
    {
     "data": {
      "text/plain": [
       "'el remedio  vi-\\nene de otros planet-\\nas\\nmalamente pero ok'"
      ]
     },
     "execution_count": 196,
     "metadata": {},
     "output_type": "execute_result"
    }
   ],
   "source": [
    "pos_list.reverse()\n",
    "texto_final = poem_nlp.text\n",
    "for pos in pos_list:\n",
    "     texto_final = texto_final[:pos]+'-\\n'+texto_final[pos:]\n",
    "texto_final"
   ]
  },
  {
   "cell_type": "code",
   "execution_count": 197,
   "metadata": {},
   "outputs": [
    {
     "data": {
      "text/plain": [
       "[(el, 'DET'),\n",
       " (remedio, 'NOUN'),\n",
       " ( , 'SPACE'),\n",
       " (viene, 'VERB'),\n",
       " (de, 'ADP'),\n",
       " (otros, 'DET'),\n",
       " (planetas, 'NOUN'),\n",
       " (, 'SPACE'),\n",
       " (malamente, 'ADV'),\n",
       " (pero, 'CONJ'),\n",
       " (ok, 'NOUN')]"
      ]
     },
     "execution_count": 197,
     "metadata": {},
     "output_type": "execute_result"
    }
   ],
   "source": [
    "[(t,t.pos_) for t in poem_nlp]"
   ]
  },
  {
   "cell_type": "code",
   "execution_count": null,
   "metadata": {},
   "outputs": [],
   "source": []
  }
 ],
 "metadata": {
  "kernelspec": {
   "display_name": "Python 3",
   "language": "python",
   "name": "python3"
  },
  "language_info": {
   "codemirror_mode": {
    "name": "ipython",
    "version": 3
   },
   "file_extension": ".py",
   "mimetype": "text/x-python",
   "name": "python",
   "nbconvert_exporter": "python",
   "pygments_lexer": "ipython3",
   "version": "3.6.7"
  }
 },
 "nbformat": 4,
 "nbformat_minor": 2
}
