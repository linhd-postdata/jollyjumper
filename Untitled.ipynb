{
 "cells": [
  {
   "cell_type": "code",
   "execution_count": 4,
   "metadata": {},
   "outputs": [],
   "source": [
    "import re\n",
    "import spacy"
   ]
  },
  {
   "cell_type": "code",
   "execution_count": 2,
   "metadata": {},
   "outputs": [
    {
     "name": "stdout",
     "output_type": "stream",
     "text": [
      "Collecting es_core_news_md==2.0.0 from https://github.com/explosion/spacy-models/releases/download/es_core_news_md-2.0.0/es_core_news_md-2.0.0.tar.gz#egg=es_core_news_md==2.0.0\n",
      "  Downloading https://github.com/explosion/spacy-models/releases/download/es_core_news_md-2.0.0/es_core_news_md-2.0.0.tar.gz (98.5MB)\n",
      "\u001b[K    100% |████████████████████████████████| 98.5MB 10.5MB/s ta 0:00:01    56% |██████████████████              | 55.5MB 13.7MB/s eta 0:00:04\n",
      "\u001b[?25hInstalling collected packages: es-core-news-md\n",
      "  Running setup.py install for es-core-news-md ... \u001b[?25ldone\n",
      "\u001b[?25hSuccessfully installed es-core-news-md-2.0.0\n",
      "\n",
      "\u001b[93m    Linking successful\u001b[0m\n",
      "    /home/uned/.local/lib/python3.6/site-packages/es_core_news_md -->\n",
      "    /home/uned/.local/lib/python3.6/site-packages/spacy/data/es_core_news_md\n",
      "\n",
      "    You can now load the model via spacy.load('es_core_news_md')\n",
      "\n"
     ]
    }
   ],
   "source": [
    "!python3 -m spacy download es_core_news_md"
   ]
  },
  {
   "cell_type": "code",
   "execution_count": 5,
   "metadata": {},
   "outputs": [],
   "source": [
    "nlp = spacy.load('es_core_news_md')"
   ]
  },
  {
   "cell_type": "code",
   "execution_count": 36,
   "metadata": {},
   "outputs": [],
   "source": [
    "from src.jollyjumper.rules import *\n"
   ]
  },
  {
   "cell_type": "code",
   "execution_count": 10,
   "metadata": {},
   "outputs": [],
   "source": [
    "PREPS = [\"a\", \"al\", \"ante\", \"bajo\", \"con\", \"contra\", \"desde\", \"en\", \"entre\", \n",
    "         \"hacia\", \"hasta\", \"para\", \"por\", \"según\", \"sin\", \"sobre\", \"tras\",\n",
    "         \"mediante\", \"durante\", \"salvo\", \"excepto\", \"cabe\", \"so\"]\n"
   ]
  },
  {
   "cell_type": "code",
   "execution_count": 21,
   "metadata": {},
   "outputs": [],
   "source": [
    "text = nlp(\"verde casa\")\n",
    "previous_token = text[0]\n",
    "next_token = text[1]"
   ]
  },
  {
   "cell_type": "code",
   "execution_count": 18,
   "metadata": {},
   "outputs": [
    {
     "name": "stdout",
     "output_type": "stream",
     "text": [
      "['ADJ', 'NOUN']\n"
     ]
    }
   ],
   "source": [
    "print(get_sirrematic_enjambment(previous_token, next_token))"
   ]
  },
  {
   "cell_type": "code",
   "execution_count": 60,
   "metadata": {},
   "outputs": [
    {
     "name": "stdout",
     "output_type": "stream",
     "text": [
      "['VERB', 'VERB']\n"
     ]
    }
   ],
   "source": [
    "text = nlp(\"caminando vienes\")\n",
    "previous_token = text[0]\n",
    "next_token = text[1]\n",
    "print(get_sirrematic_with_verb_enjambment(previous_token, next_token))"
   ]
  },
  {
   "cell_type": "code",
   "execution_count": 61,
   "metadata": {},
   "outputs": [
    {
     "name": "stdout",
     "output_type": "stream",
     "text": [
      "Collecting en_core_web_sm==2.0.0 from https://github.com/explosion/spacy-models/releases/download/en_core_web_sm-2.0.0/en_core_web_sm-2.0.0.tar.gz#egg=en_core_web_sm==2.0.0\n",
      "  Downloading https://github.com/explosion/spacy-models/releases/download/en_core_web_sm-2.0.0/en_core_web_sm-2.0.0.tar.gz (37.4MB)\n",
      "\u001b[K    100% |████████████████████████████████| 37.4MB 207.8MB/s ta 0:00:01\n",
      "\u001b[?25hInstalling collected packages: en-core-web-sm\n",
      "  Running setup.py install for en-core-web-sm ... \u001b[?25ldone\n",
      "\u001b[?25hSuccessfully installed en-core-web-sm-2.0.0\n",
      "\n",
      "\u001b[93m    Linking successful\u001b[0m\n",
      "    /home/uned/.local/lib/python3.6/site-packages/en_core_web_sm -->\n",
      "    /home/uned/.local/lib/python3.6/site-packages/spacy/data/en\n",
      "\n",
      "    You can now load the model via spacy.load('en')\n",
      "\n"
     ]
    }
   ],
   "source": [
    "!python3 -m spacy download en"
   ]
  },
  {
   "cell_type": "code",
   "execution_count": 62,
   "metadata": {},
   "outputs": [],
   "source": [
    "nlp2 = spacy.load('en')"
   ]
  },
  {
   "cell_type": "code",
   "execution_count": 77,
   "metadata": {},
   "outputs": [
    {
     "data": {
      "text/plain": [
       "[('000v', 'dddx')]"
      ]
     },
     "execution_count": 77,
     "metadata": {},
     "output_type": "execute_result"
    }
   ],
   "source": [
    "text2 = nlp2(\"000v\")"
   ]
  },
  {
   "cell_type": "code",
   "execution_count": null,
   "metadata": {},
   "outputs": [],
   "source": []
  }
 ],
 "metadata": {
  "kernelspec": {
   "display_name": "Python 3",
   "language": "python",
   "name": "python3"
  }
 },
 "nbformat": 4,
 "nbformat_minor": 2
}
